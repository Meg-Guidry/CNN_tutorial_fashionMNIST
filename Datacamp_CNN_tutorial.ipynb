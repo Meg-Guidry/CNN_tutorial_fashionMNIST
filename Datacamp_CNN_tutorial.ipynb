{
 "cells": [
  {
   "cell_type": "markdown",
   "id": "5e3d5c4e-bf7c-46df-9cf4-3aca46dcd604",
   "metadata": {},
   "source": [
    "# [DataCamp Convolutional Neural Networks Tutorial](https://www.datacamp.com/tutorial/convolutional-neural-networks-python)\n",
    "\n"
   ]
  },
  {
   "cell_type": "markdown",
   "id": "205b791c-8141-4bed-b216-109b9f2e3645",
   "metadata": {},
   "source": [
    "## Step 1: Load the data"
   ]
  },
  {
   "cell_type": "code",
   "execution_count": 43,
   "id": "cc9f8bb8-f16a-4a2a-81ea-344eb65ad65c",
   "metadata": {},
   "outputs": [],
   "source": [
    "from keras.datasets import fashion_mnist\n",
    "(train_X, train_Y), (test_X, test_Y) = fashion_mnist.load_data()"
   ]
  },
  {
   "cell_type": "markdown",
   "id": "f79f6e75-5bd3-4e17-a005-12a7c1a473c6",
   "metadata": {},
   "source": [
    "<font color='red'>Question: How does the function above differ from train_test_split? Is the test size of the data predetermined? </font>\n",
    "\n",
    "Answer:"
   ]
  },
  {
   "cell_type": "code",
   "execution_count": 44,
   "id": "a8561232-4352-4504-b11a-23b98cf3c00b",
   "metadata": {},
   "outputs": [
    {
     "data": {
      "text/plain": [
       "(28, 28)"
      ]
     },
     "execution_count": 44,
     "metadata": {},
     "output_type": "execute_result"
    }
   ],
   "source": [
    "# Lets take a look at the shape of one observation from X_train:\n",
    "train_X[0].shape"
   ]
  },
  {
   "cell_type": "code",
   "execution_count": 45,
   "id": "a364f09e-414b-4eb1-8b44-b5b786469b60",
   "metadata": {},
   "outputs": [
    {
     "data": {
      "text/plain": [
       "(60000, 28, 28)"
      ]
     },
     "execution_count": 45,
     "metadata": {},
     "output_type": "execute_result"
    }
   ],
   "source": [
    "train_X.shape"
   ]
  },
  {
   "cell_type": "code",
   "execution_count": 46,
   "id": "16530b10-b029-49c4-9579-ec6fb549e80b",
   "metadata": {},
   "outputs": [
    {
     "data": {
      "text/plain": [
       "(60000,)"
      ]
     },
     "execution_count": 46,
     "metadata": {},
     "output_type": "execute_result"
    }
   ],
   "source": [
    "train_Y.shape"
   ]
  },
  {
   "cell_type": "code",
   "execution_count": 47,
   "id": "eef51c98-4939-4b3e-aec6-72e18998097e",
   "metadata": {},
   "outputs": [
    {
     "name": "stdout",
     "output_type": "stream",
     "text": [
      "Training data shape :  (60000, 28, 28) (60000,)\n",
      "Testing data shape :  (10000, 28, 28) (10000,)\n"
     ]
    }
   ],
   "source": [
    "import numpy as np\n",
    "from keras.utils import to_categorical\n",
    "import matplotlib.pyplot as plt\n",
    "\n",
    "print(\"Training data shape : \", train_X.shape, train_Y.shape)\n",
    "print(\"Testing data shape : \", test_X.shape, test_Y.shape)"
   ]
  },
  {
   "cell_type": "markdown",
   "id": "d8527775-0c3c-4128-9ebe-6c85d29131fa",
   "metadata": {},
   "source": [
    "### Initial notes on the data:\n",
    "- As expected, each observation is a 28x28 array!\n",
    "- train_X contains 60,000 observations. Each one being a 28x28 array\n",
    "- train_Y also contains an array with 60,000 labels. Each label is an integer that corresponds to the type of clothing that is represented in the corersponding training_X dataset.\n",
    "- The test datasets contain 10,000 observations (X) and labels (Y)\n",
    "\n",
    "### Label descriptions:\n",
    "0. T-shirt/top\n",
    "1. Trouser\n",
    "2. Pullover\n",
    "3. Dress\n",
    "4. Coat\n",
    "5. Sandal\n",
    "6. Shirt\n",
    "7. Sneaker\n",
    "8. Bag\n",
    "9. Ankle boot\n"
   ]
  },
  {
   "cell_type": "markdown",
   "id": "dccf96be-6bc6-4326-af22-64383b3d120d",
   "metadata": {},
   "source": [
    "## Step 2: Analyze the Data"
   ]
  },
  {
   "cell_type": "code",
   "execution_count": 48,
   "id": "1fc1ef36-5f45-4ad6-ae83-740eea44d97d",
   "metadata": {},
   "outputs": [
    {
     "name": "stdout",
     "output_type": "stream",
     "text": [
      "The total number of output classes is  10\n",
      "The output values are  [0 1 2 3 4 5 6 7 8 9]\n"
     ]
    }
   ],
   "source": [
    "### Find the unique numbers from the train labels. In other words, the unique values that exist within train_Y\n",
    "\n",
    "label_values = np.unique(train_Y)\n",
    "num_labels = len(val_counts) \n",
    "\n",
    "print(\"The total number of output classes is \", num_labels)\n",
    "print(\"The output values are \", label_values)\n"
   ]
  },
  {
   "cell_type": "code",
   "execution_count": 49,
   "id": "a7e54137-e2e4-406e-a5ac-aebb53395b1b",
   "metadata": {},
   "outputs": [
    {
     "data": {
      "text/plain": [
       "Text(0.5, 1.0, 'Ground Truth : 9')"
      ]
     },
     "execution_count": 49,
     "metadata": {},
     "output_type": "execute_result"
    },
    {
     "data": {
      "image/png": "[encoded data removed]",
      "text/plain": [
       "<Figure size 500x500 with 2 Axes>"
      ]
     },
     "metadata": {},
     "output_type": "display_data"
    }
   ],
   "source": [
    "### Take a look at what the images in the dataset look like\n",
    "plt.figure(figsize=[5,5])\n",
    "\n",
    "# Display the first image in the training data\n",
    "plt.subplot(121)\n",
    "plt.imshow(train_X[0,:,:], cmap=\"gray\")\n",
    "plt.title(f\"Ground Truth : {train_Y[0]}\")\n",
    "\n",
    "# Display the first image in the testing data\n",
    "plt.subplot(122)\n",
    "plt.imshow(test_X[0,:,:], cmap=\"gray\")\n",
    "plt.title(f\"Ground Truth : {test_Y[0]}\")"
   ]
  },
  {
   "cell_type": "markdown",
   "id": "7b6c9908-62d9-4c28-a076-7892033de4f7",
   "metadata": {},
   "source": [
    "## Step 3: Data Preprocessing\n",
    "\n",
    "Because the images we are working with are 28x28 we need to preprocess the data before we feed it into the model. This is because .load_data() supplies the MNIST digits with the structure (num_samples, 28, 28) i.e. with two dimensions per example. This is the greyscale image that we see above.\n",
    "\n",
    "The convolution2D layers in keras, however, are designed to work with 3 dimensions per example. They have four dimensional inputs and outputs. This covers colour images: \n",
    "- num_samples (argument -1 is used to automatically calculate the size of the first dimension based on the size of the other dimensions.\n",
    "- width\n",
    "- height\n",
    "- num_channels (1 for grayscale images)\n",
    "\n",
    "But, more importantly, it covers deeper layers of the network where each sample has become a set of feature maps:\n",
    "- num_samples\n",
    "- width\n",
    "- height\n",
    "- num_features\n",
    "\n",
    "The reshape() function is used to change the shape of an array without changing its data. in this case the train_X and test_X arrays are being reshaped to have four dimensions\n"
   ]
  },
  {
   "cell_type": "code",
   "execution_count": 50,
   "id": "d66b34ae-9803-4216-bdfa-b433346a9b4f",
   "metadata": {},
   "outputs": [
    {
     "data": {
      "text/plain": [
       "((60000, 28, 28, 1), (10000, 28, 28, 1))"
      ]
     },
     "execution_count": 50,
     "metadata": {},
     "output_type": "execute_result"
    }
   ],
   "source": [
    "# Reshaping\n",
    "train_X = train_X.reshape(-1, 28, 28, 1).astype(\"float32\")\n",
    "test_X = test_X.reshape(-1, 28, 28, 1).astype(\"float32\")\n",
    "train_X.shape, test_X.shape"
   ]
  },
  {
   "cell_type": "markdown",
   "id": "7a5d6033-38c3-4884-a6d0-10ee46cfc3e9",
   "metadata": {},
   "source": [
    "Note: because the data is in int8 format we will need to convert it's type (this is done with the astype() function above. This is because we will be wanting our model to generate prediction probabilities. In addition, we will be rescaling the pixel values to be within the range of 0 - 1 inclusive.\n",
    "\n",
    "<font color='red'>Question: Why exactly do we need our data to be a float datatype when we are training a CNN that produces one hot encoded lables? </font>\n",
    "\n",
    "Answer:"
   ]
  },
  {
   "cell_type": "code",
   "execution_count": 51,
   "id": "4d813fb3-251c-4754-9787-a95c05b1ca74",
   "metadata": {},
   "outputs": [],
   "source": [
    "# Greyscale is a value between 0 (black) and 255 (white). Divide by 255 to scale our data so that the values are between 0 - 1\n",
    "train_X = train_X / 255 \n",
    "test_X = test_X/ 255"
   ]
  },
  {
   "cell_type": "markdown",
   "id": "6616579e-6723-4614-8d92-b7f017e95adc",
   "metadata": {},
   "source": [
    "### One hot encoding \n",
    "Our next step is to convert the class labels (which are integer values from 0 - 9) into a one hot encoding vector"
   ]
  },
  {
   "cell_type": "code",
   "execution_count": 52,
   "id": "1a718440-7b6e-45ad-a44f-654c3414d07c",
   "metadata": {},
   "outputs": [
    {
     "name": "stdout",
     "output_type": "stream",
     "text": [
      "Original label: 9\n",
      "After conversion to one-hot: [0. 0. 0. 0. 0. 0. 0. 0. 0. 1.]\n"
     ]
    }
   ],
   "source": [
    "# Change the training and testing labels (Y) from categorical values into a one hot encoding vector:\n",
    "train_Y_one_hot = to_categorical(train_Y)\n",
    "test_Y_one_hot = to_categorical(test_Y)\n",
    "\n",
    "# Display the change for category label using one-hot encoding\n",
    "print('Original label:', train_Y[0])\n",
    "print('After conversion to one-hot:', train_Y_one_hot[0])"
   ]
  },
  {
   "cell_type": "code",
   "execution_count": 55,
   "id": "b33ad0de-22be-476d-b5d1-cf14a94357ad",
   "metadata": {},
   "outputs": [],
   "source": [
    "# Finally we are ready to make our train test split:\n",
    "\n",
    "from sklearn.model_selection import train_test_split\n",
    "X_train, X_test, Y_train, Y_test = train_test_split(train_X, train_Y_one_hot, test_size=0.2, random_state=42, shuffle=True)"
   ]
  },
  {
   "cell_type": "markdown",
   "id": "873af746-af56-42c1-8b1d-9e732a68dde7",
   "metadata": {},
   "source": [
    "## Step 4: The Network\n",
    "\n",
    "We will be using three convolutional layers and three max pooling layers:\n",
    "1. 32-3 x 3 filters\n",
    "(Max Pooling 2x2)\n",
    "3. 64-3 X 3 filters\n",
    "(Max Pooling 2x2)\n",
    "5. 128-3 x 3 filters\n",
    "(Max Pooling 2x2)"
   ]
  },
  {
   "cell_type": "markdown",
   "id": "04e2dfcd-84e3-4241-9739-f320fd9973af",
   "metadata": {},
   "source": [
    "<img src=\"../fashion-mnist-architecture_htbpsz.webp.crdownload\" alt=\"Alternative text\" />"
   ]
  },
  {
   "cell_type": "markdown",
   "id": "7ed4cb26-75de-4f07-8c72-4b691f07b295",
   "metadata": {},
   "source": [
    "## Step 5: Model the Data"
   ]
  },
  {
   "cell_type": "code",
   "execution_count": 63,
   "id": "20a6b6fe-c791-43fe-8af8-d156e6c4ee7b",
   "metadata": {},
   "outputs": [],
   "source": [
    "# importing all necessary modules for model training:\n",
    "\n",
    "import keras\n",
    "from keras.models import Sequential\n",
    "# , Input, Model\n",
    "from keras.layers import Dense, Dropout, Flatten\n",
    "from keras.layers import Conv2D, MaxPooling2D\n",
    "from tensorflow.keras.layers import BatchNormalization\n",
    "# from keras.layers.normalization import BatchNormalization\n",
    "from keras.layers import LeakyReLU"
   ]
  },
  {
   "cell_type": "markdown",
   "id": "d79fb1f3-b812-497d-849d-f54372c6e82a",
   "metadata": {},
   "source": [
    "Now we will define our batch size. This contributes massively to determining the learning parameters and affects the prediction accuracy. We will train the network for 20 epochs.\n",
    "\n",
    "<font color='red'>Question: How do I choose batch size? How specifically does batch size impact network training and is choosing mostly done by trial and error? Also, what is learning rate and learning parameters? </font>\n"
   ]
  },
  {
   "cell_type": "code",
   "execution_count": 58,
   "id": "f98ea62d-6e15-43d2-8661-29cbd5f1043e",
   "metadata": {},
   "outputs": [],
   "source": [
    "batch_size = 64\n",
    "epochs = 20\n",
    "num_classes = 10"
   ]
  },
  {
   "cell_type": "markdown",
   "id": "819c0b54-1486-4f9a-a7b2-36ac5014fb5b",
   "metadata": {},
   "source": [
    "## Step 6: Neural Network Architecture\n",
    "\n",
    "In Keras, you can just stack up layers by adding the desired layer one by one. That's exactly what you'll do here: you'll first add a first convolutional layer with Conv2D(). Note that you use this function because you're working with images! Next, you add the Leaky ReLU activation function which helps the network learn non-linear decision boundaries. Since you have ten different classes, you'll need a non-linear decision boundary that could separate these ten classes which are not linearly separable.\n",
    "\n",
    "More specifically, you add Leaky ReLUs because they attempt to fix the problem of dying Rectified Linear Units (ReLUs). The ReLU activation function is used a lot in neural network architectures and more specifically in convolutional networks, where it has proven to be more effective than the widely used logistic sigmoid function. As of 2017, this activation function is the most popular one for deep neural networks. The ReLU function allows the activation to be thresholded at zero. However, during the training, ReLU units can \"die\". This can happen when a large gradient flows through a ReLU neuron: it can cause the weights to update in such a way that the neuron will never activate on any data point again. If this happens, then the gradient flowing through the unit will forever be zero from that point on. Leaky ReLUs attempt to solve this: the function will not be zero but will instead have a small negative slope.\n",
    "\n",
    "Next, you'll add the max-pooling layer with MaxPooling2D() and so on. The last layer is a Dense layer that has a softmax activation function with 10 units, which is needed for this multi-class classification problem.\n",
    "\n",
    "<font color='red'>Question: Can I get an example of how ReLU units can die based on the gradients that pass through them and how a \"leaky ReLU\" helps to overcome this?</font>\n"
   ]
  },
  {
   "cell_type": "code",
   "execution_count": 64,
   "id": "57d3637c-f364-42d0-abd6-7993706809ab",
   "metadata": {},
   "outputs": [],
   "source": [
    "fashion_model = Sequential()\n",
    "fashion_model.add(Conv2D(32, kernel_size=(3, 3),activation='linear',input_shape=(28,28,1),padding='same'))\n",
    "fashion_model.add(LeakyReLU(alpha=0.1))\n",
    "fashion_model.add(MaxPooling2D((2, 2),padding='same'))\n",
    "fashion_model.add(Conv2D(64, (3, 3), activation='linear',padding='same'))\n",
    "fashion_model.add(LeakyReLU(alpha=0.1))\n",
    "fashion_model.add(MaxPooling2D(pool_size=(2, 2),padding='same'))\n",
    "fashion_model.add(Conv2D(128, (3, 3), activation='linear',padding='same'))\n",
    "fashion_model.add(LeakyReLU(alpha=0.1))                  \n",
    "fashion_model.add(MaxPooling2D(pool_size=(2, 2),padding='same'))\n",
    "fashion_model.add(Flatten())\n",
    "fashion_model.add(Dense(128, activation='linear'))\n",
    "fashion_model.add(LeakyReLU(alpha=0.1))                  \n",
    "fashion_model.add(Dense(num_classes, activation='softmax'))"
   ]
  },
  {
   "cell_type": "markdown",
   "id": "896d224b-2d75-453d-949a-49bda8f55992",
   "metadata": {},
   "source": [
    "## Step 7: Compile the Model\n",
    "\n",
    "After the model is created, you compile it using the Adam optimizer, one of the most popular optimization algorithms. You can read more about this optimizer here. Additionally, you specify the loss type which is categorical cross entropy which is used for multi-class classification, you can also use binary cross-entropy as the loss function. Lastly, you specify the metrics as accuracy which you want to analyze while the model is training.\n",
    "\n",
    "<font color='red'>Key terms and concepts to study: Adam optimizer, loss type, how to choose a metric for while the model is training, what is the difference between training accuracy and training loss?</font>"
   ]
  },
  {
   "cell_type": "code",
   "execution_count": 65,
   "id": "0c68b20b-c4e7-4a09-94d6-3f382edc6130",
   "metadata": {},
   "outputs": [
    {
     "name": "stderr",
     "output_type": "stream",
     "text": [
      "WARNING:absl:At this time, the v2.11+ optimizer `tf.keras.optimizers.Adam` runs slowly on M1/M2 Macs, please use the legacy Keras optimizer instead, located at `tf.keras.optimizers.legacy.Adam`.\n"
     ]
    }
   ],
   "source": [
    "fashion_model.compile(loss=keras.losses.categorical_crossentropy, optimizer=keras.optimizers.Adam(),metrics=['accuracy'])"
   ]
  },
  {
   "cell_type": "code",
   "execution_count": 68,
   "id": "2504c43e-a8c7-4a2e-b27a-ec5edda2e534",
   "metadata": {},
   "outputs": [
    {
     "name": "stdout",
     "output_type": "stream",
     "text": [
      "Model: \"sequential\"\n",
      "_________________________________________________________________\n",
      " Layer (type)                Output Shape              Param #   \n",
      "=================================================================\n",
      " conv2d (Conv2D)             (None, 28, 28, 32)        320       \n",
      "                                                                 \n",
      " leaky_re_lu (LeakyReLU)     (None, 28, 28, 32)        0         \n",
      "                                                                 \n",
      " max_pooling2d (MaxPooling2  (None, 14, 14, 32)        0         \n",
      " D)                                                              \n",
      "                                                                 \n",
      " conv2d_1 (Conv2D)           (None, 14, 14, 64)        18496     \n",
      "                                                                 \n",
      " leaky_re_lu_1 (LeakyReLU)   (None, 14, 14, 64)        0         \n",
      "                                                                 \n",
      " max_pooling2d_1 (MaxPoolin  (None, 7, 7, 64)          0         \n",
      " g2D)                                                            \n",
      "                                                                 \n",
      " conv2d_2 (Conv2D)           (None, 7, 7, 128)         73856     \n",
      "                                                                 \n",
      " leaky_re_lu_2 (LeakyReLU)   (None, 7, 7, 128)         0         \n",
      "                                                                 \n",
      " max_pooling2d_2 (MaxPoolin  (None, 4, 4, 128)         0         \n",
      " g2D)                                                            \n",
      "                                                                 \n",
      " flatten (Flatten)           (None, 2048)              0         \n",
      "                                                                 \n",
      " dense (Dense)               (None, 128)               262272    \n",
      "                                                                 \n",
      " leaky_re_lu_3 (LeakyReLU)   (None, 128)               0         \n",
      "                                                                 \n",
      " dense_1 (Dense)             (None, 10)                1290      \n",
      "                                                                 \n",
      "=================================================================\n",
      "Total params: 356234 (1.36 MB)\n",
      "Trainable params: 356234 (1.36 MB)\n",
      "Non-trainable params: 0 (0.00 Byte)\n",
      "_________________________________________________________________\n"
     ]
    }
   ],
   "source": [
    "# Let's visualize the layers that you created in the above step by using the summary function. This will show some parameters (weights and biases) in each layer and also the total parameters in your model.\n",
    "\n",
    "fashion_model.summary()"
   ]
  },
  {
   "cell_type": "markdown",
   "id": "42aed3e2-9c7f-4ffc-b31b-7d011589c821",
   "metadata": {},
   "source": [
    "## Step 8: Train the Model\n",
    "\n",
    "It's finally time to train the model with Keras' fit() function! The model trains for 20 epochs. The fit() function will return a history object; By storying the result of this function in fashion_train, you can use it later to plot the accuracy and loss function plots between training and validation which will help you to analyze your model's performance visually."
   ]
  },
  {
   "cell_type": "code",
   "execution_count": 70,
   "id": "164c3525-c437-4715-9e23-7769f667f00d",
   "metadata": {},
   "outputs": [
    {
     "name": "stdout",
     "output_type": "stream",
     "text": [
      "Epoch 1/20\n",
      "750/750 [==============================] - 15s 20ms/step - loss: 0.4716 - accuracy: 0.8269 - val_loss: 0.3134 - val_accuracy: 0.8860\n",
      "Epoch 2/20\n",
      "750/750 [==============================] - 16s 22ms/step - loss: 0.2894 - accuracy: 0.8933 - val_loss: 0.2763 - val_accuracy: 0.8992\n",
      "Epoch 3/20\n",
      "750/750 [==============================] - 16s 22ms/step - loss: 0.2416 - accuracy: 0.9097 - val_loss: 0.2454 - val_accuracy: 0.9098\n",
      "Epoch 4/20\n",
      "750/750 [==============================] - 17s 22ms/step - loss: 0.2114 - accuracy: 0.9213 - val_loss: 0.2281 - val_accuracy: 0.9171\n",
      "Epoch 5/20\n",
      "750/750 [==============================] - 17s 22ms/step - loss: 0.1855 - accuracy: 0.9318 - val_loss: 0.2230 - val_accuracy: 0.9183\n",
      "Epoch 6/20\n",
      "750/750 [==============================] - 17s 22ms/step - loss: 0.1640 - accuracy: 0.9388 - val_loss: 0.2295 - val_accuracy: 0.9193\n",
      "Epoch 7/20\n",
      "750/750 [==============================] - 17s 22ms/step - loss: 0.1410 - accuracy: 0.9471 - val_loss: 0.2148 - val_accuracy: 0.9225\n",
      "Epoch 8/20\n",
      "750/750 [==============================] - 17s 23ms/step - loss: 0.1221 - accuracy: 0.9540 - val_loss: 0.2616 - val_accuracy: 0.9103\n",
      "Epoch 9/20\n",
      "750/750 [==============================] - 17s 22ms/step - loss: 0.1042 - accuracy: 0.9605 - val_loss: 0.2379 - val_accuracy: 0.9233\n",
      "Epoch 10/20\n",
      "750/750 [==============================] - 17s 22ms/step - loss: 0.0878 - accuracy: 0.9672 - val_loss: 0.2538 - val_accuracy: 0.9211\n",
      "Epoch 11/20\n",
      "750/750 [==============================] - 17s 22ms/step - loss: 0.0776 - accuracy: 0.9706 - val_loss: 0.2770 - val_accuracy: 0.9202\n",
      "Epoch 12/20\n",
      "750/750 [==============================] - 17s 23ms/step - loss: 0.0664 - accuracy: 0.9753 - val_loss: 0.2758 - val_accuracy: 0.9199\n",
      "Epoch 13/20\n",
      "750/750 [==============================] - 17s 23ms/step - loss: 0.0544 - accuracy: 0.9799 - val_loss: 0.2921 - val_accuracy: 0.9223\n",
      "Epoch 14/20\n",
      "750/750 [==============================] - 17s 23ms/step - loss: 0.0480 - accuracy: 0.9815 - val_loss: 0.3342 - val_accuracy: 0.9175\n",
      "Epoch 15/20\n",
      "750/750 [==============================] - 17s 23ms/step - loss: 0.0452 - accuracy: 0.9837 - val_loss: 0.3629 - val_accuracy: 0.9198\n",
      "Epoch 16/20\n",
      "750/750 [==============================] - 17s 22ms/step - loss: 0.0439 - accuracy: 0.9837 - val_loss: 0.3822 - val_accuracy: 0.9150\n",
      "Epoch 17/20\n",
      "750/750 [==============================] - 17s 22ms/step - loss: 0.0357 - accuracy: 0.9869 - val_loss: 0.3669 - val_accuracy: 0.9227\n",
      "Epoch 18/20\n",
      "750/750 [==============================] - 17s 23ms/step - loss: 0.0338 - accuracy: 0.9876 - val_loss: 0.3878 - val_accuracy: 0.9223\n",
      "Epoch 19/20\n",
      "750/750 [==============================] - 17s 23ms/step - loss: 0.0309 - accuracy: 0.9883 - val_loss: 0.3997 - val_accuracy: 0.9225\n",
      "Epoch 20/20\n",
      "750/750 [==============================] - 17s 23ms/step - loss: 0.0310 - accuracy: 0.9886 - val_loss: 0.4164 - val_accuracy: 0.9220\n"
     ]
    }
   ],
   "source": [
    "fashion_train = fashion_model.fit(X_train, Y_train, batch_size=batch_size,epochs=epochs,verbose=1,validation_data=(X_test, Y_test))"
   ]
  },
  {
   "cell_type": "code",
   "execution_count": null,
   "id": "b32ec176-3ccc-489d-a6e4-3d4e69d71709",
   "metadata": {},
   "outputs": [],
   "source": []
  },
  {
   "cell_type": "markdown",
   "id": "38a97017-bb8b-4349-b128-383b5952d987",
   "metadata": {},
   "source": [
    "## Step 9: Model Evaluation on the Test Set"
   ]
  },
  {
   "cell_type": "code",
   "execution_count": 71,
   "id": "994554d5-12f9-4afe-afcc-e4cec32c6763",
   "metadata": {},
   "outputs": [],
   "source": [
    "test_eval = fashion_model.evaluate(test_X, test_Y_one_hot, verbose=0)"
   ]
  },
  {
   "cell_type": "code",
   "execution_count": 72,
   "id": "8c6408e1-1f09-4859-8e8b-f9eb237782d2",
   "metadata": {},
   "outputs": [
    {
     "name": "stdout",
     "output_type": "stream",
     "text": [
      "Test loss: 0.4635132849216461\n",
      "Test accuracy: 0.9174000024795532\n"
     ]
    }
   ],
   "source": [
    "print('Test loss:', test_eval[0])\n",
    "print('Test accuracy:', test_eval[1])\n"
   ]
  },
  {
   "cell_type": "code",
   "execution_count": 74,
   "id": "e3526a62-1ac6-4ad0-bb04-46a36f8259a4",
   "metadata": {},
   "outputs": [
    {
     "data": {
      "text/plain": [
       "{'loss': [0.47158193588256836,\n",
       "  0.28936225175857544,\n",
       "  0.24161745607852936,\n",
       "  0.21142254769802094,\n",
       "  0.18548907339572906,\n",
       "  0.16397443413734436,\n",
       "  0.14103762805461884,\n",
       "  0.12208730727434158,\n",
       "  0.10423383861780167,\n",
       "  0.08779553323984146,\n",
       "  0.0775630921125412,\n",
       "  0.06639832258224487,\n",
       "  0.0543961301445961,\n",
       "  0.04795580729842186,\n",
       "  0.045191746205091476,\n",
       "  0.04391538351774216,\n",
       "  0.0357174314558506,\n",
       "  0.03382450342178345,\n",
       "  0.03089768812060356,\n",
       "  0.031020062044262886],\n",
       " 'accuracy': [0.8269374966621399,\n",
       "  0.8933125138282776,\n",
       "  0.9097291827201843,\n",
       "  0.9213125109672546,\n",
       "  0.9318333268165588,\n",
       "  0.9387916922569275,\n",
       "  0.9470833539962769,\n",
       "  0.9540208578109741,\n",
       "  0.9604791402816772,\n",
       "  0.9671875238418579,\n",
       "  0.9705833196640015,\n",
       "  0.9752708077430725,\n",
       "  0.979854166507721,\n",
       "  0.9815416932106018,\n",
       "  0.9837499856948853,\n",
       "  0.9837499856948853,\n",
       "  0.9868958592414856,\n",
       "  0.9876041412353516,\n",
       "  0.9883333444595337,\n",
       "  0.9886458516120911],\n",
       " 'val_loss': [0.31341272592544556,\n",
       "  0.2763347029685974,\n",
       "  0.24536964297294617,\n",
       "  0.22807464003562927,\n",
       "  0.2229813039302826,\n",
       "  0.2294723093509674,\n",
       "  0.21484050154685974,\n",
       "  0.261555939912796,\n",
       "  0.23790065944194794,\n",
       "  0.25382518768310547,\n",
       "  0.2769865393638611,\n",
       "  0.2758170962333679,\n",
       "  0.29213011264801025,\n",
       "  0.33420032262802124,\n",
       "  0.36288532614707947,\n",
       "  0.3821706473827362,\n",
       "  0.36692145466804504,\n",
       "  0.387843519449234,\n",
       "  0.39970868825912476,\n",
       "  0.4164390563964844],\n",
       " 'val_accuracy': [0.8859999775886536,\n",
       "  0.8992499709129333,\n",
       "  0.9098333120346069,\n",
       "  0.9170833230018616,\n",
       "  0.9183333516120911,\n",
       "  0.9193333387374878,\n",
       "  0.9225000143051147,\n",
       "  0.9102500081062317,\n",
       "  0.9233333468437195,\n",
       "  0.9210833311080933,\n",
       "  0.9202499985694885,\n",
       "  0.9199166893959045,\n",
       "  0.9223333597183228,\n",
       "  0.9175000190734863,\n",
       "  0.9198333621025085,\n",
       "  0.9150000214576721,\n",
       "  0.9226666688919067,\n",
       "  0.9223333597183228,\n",
       "  0.9225000143051147,\n",
       "  0.921999990940094]}"
      ]
     },
     "execution_count": 74,
     "metadata": {},
     "output_type": "execute_result"
    }
   ],
   "source": [
    "fashion_train.history"
   ]
  },
  {
   "cell_type": "code",
   "execution_count": 76,
   "id": "d42b2240-8b78-496d-85c0-e890d067ff5b",
   "metadata": {},
   "outputs": [
    {
     "data": {
      "image/png": "[encoded data removed]",
      "text/plain": [
       "<Figure size 640x480 with 1 Axes>"
      ]
     },
     "metadata": {},
     "output_type": "display_data"
    },
    {
     "data": {
      "image/png": "[encoded data removed]",
      "text/plain": [
       "<Figure size 640x480 with 1 Axes>"
      ]
     },
     "metadata": {},
     "output_type": "display_data"
    }
   ],
   "source": [
    "accuracy = fashion_train.history['accuracy']\n",
    "val_accuracy = fashion_train.history['val_accuracy']\n",
    "loss = fashion_train.history['loss']\n",
    "val_loss = fashion_train.history['val_loss']\n",
    "epochs = range(len(accuracy))\n",
    "plt.plot(epochs, accuracy, 'bo', label='Training accuracy')\n",
    "plt.plot(epochs, val_accuracy, 'b', label='Validation accuracy')\n",
    "plt.title('Training and validation accuracy')\n",
    "plt.legend()\n",
    "plt.figure()\n",
    "plt.plot(epochs, loss, 'bo', label='Training loss')\n",
    "plt.plot(epochs, val_loss, 'b', label='Validation loss')\n",
    "plt.title('Training and validation loss')\n",
    "plt.legend()\n",
    "plt.show()"
   ]
  },
  {
   "cell_type": "markdown",
   "id": "52d26072-9281-4d4e-9e29-f18f82f43d17",
   "metadata": {},
   "source": [
    "## Step 10: Adding Dropout into the Network"
   ]
  },
  {
   "cell_type": "markdown",
   "id": "01b9bec8-c910-46c4-bd44-e6d43cb439b2",
   "metadata": {},
   "source": [
    "## Step 11: Model Evaluation on the Test Set, Take 2"
   ]
  },
  {
   "cell_type": "markdown",
   "id": "6b0249c2-5ce1-410c-bf09-f11a16f497b8",
   "metadata": {},
   "source": [
    "## Step 12: Predict Labels"
   ]
  },
  {
   "cell_type": "markdown",
   "id": "e828ff42-547e-4bad-966c-093445e6b099",
   "metadata": {},
   "source": [
    "## Step 13: Classification Report"
   ]
  }
 ],
 "metadata": {
  "kernelspec": {
   "display_name": "Python 3 (ipykernel)",
   "language": "python",
   "name": "python3"
  },
  "language_info": {
   "codemirror_mode": {
    "name": "ipython",
    "version": 3
   },
   "file_extension": ".py",
   "mimetype": "text/x-python",
   "name": "python",
   "nbconvert_exporter": "python",
   "pygments_lexer": "ipython3",
   "version": "3.11.5"
  }
 },
 "nbformat": 4,
 "nbformat_minor": 5
}
